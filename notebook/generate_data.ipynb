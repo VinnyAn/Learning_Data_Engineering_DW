{
 "cells": [
  {
   "cell_type": "code",
   "execution_count": 6,
   "metadata": {},
   "outputs": [],
   "source": [
    "import pandas as pd\n",
    "from faker import Faker\n",
    "import random"
   ]
  },
  {
   "cell_type": "code",
   "execution_count": 82,
   "metadata": {},
   "outputs": [],
   "source": [
    "# Iniciar Faker para gerar dados ficticios\n",
    "fake = Faker()\n",
    "path_destino = r\"C:\\Estudos\\Projeto_DataWarehouse\\Learning_Data_Engineering_DW\\data\\raw\"\n",
    "\n",
    "# Definir n de amostra\n",
    "n_clientes = 500\n",
    "n_vendas = 1000\n",
    "lista = ['Arroz', 'Feijão', 'Macarrão', 'Batata', 'Banana']\n",
    "n_produtos = len(lista)"
   ]
  },
  {
   "cell_type": "code",
   "execution_count": 80,
   "metadata": {},
   "outputs": [],
   "source": [
    "# Gerar dados aleatórios de Clientes\n",
    "dados_clientes = [\n",
    "    {\n",
    "        \"id\": i + 1,\n",
    "        \"nome\": fake.name(),\n",
    "        \"email\": fake.email(),\n",
    "        \"idade\": random.randint(18, 70),\n",
    "        \"cidade\": fake.city(),\n",
    "        \"data_registro\": fake.date_between(start_date=\"-2y\", end_date=\"-0d\") ## Pegando 2 anos atras a partir de data final (\"Ontem\")\n",
    "\n",
    "    }\n",
    "    for i in range(n_clientes)\n",
    "]\n",
    "\n",
    "Clientes_df = pd.DataFrame(dados_clientes)"
   ]
  },
  {
   "cell_type": "code",
   "execution_count": 68,
   "metadata": {},
   "outputs": [],
   "source": [
    "# Gerar dados alatórios de Produtos\n",
    "dados_produtos = [\n",
    "    {\n",
    "        \"id\": i + 1,\n",
    "        \"nome\": lista[i]\n",
    "    }\n",
    "    for i in range(n_produtos)\n",
    "]\n",
    "\n",
    "Produtos_df = pd.DataFrame(dados_produtos)"
   ]
  },
  {
   "cell_type": "code",
   "execution_count": 70,
   "metadata": {},
   "outputs": [],
   "source": [
    "dados_vendas = [\n",
    "    {\n",
    "        \"id\" : i + 1,\n",
    "        \"id_cliente\": random.randint(1, n_clientes),\n",
    "        \"id_produto\": random.randint(1, n_produtos),\n",
    "        \"quantidade\": random.randint(1, 5),\n",
    "        \"valor\": round(random.uniform(10, 100), 2),\n",
    "    }\n",
    "    for i in range(n_vendas)\n",
    "]\n",
    "\n",
    "Vendas_df = pd.DataFrame(dados_vendas)"
   ]
  },
  {
   "cell_type": "code",
   "execution_count": 85,
   "metadata": {},
   "outputs": [],
   "source": [
    "Clientes_df.to_csv(f\"{path_destino}/clientes.csv\", sep=\";\", header=True, index=False, encoding=\"UTF-8\")\n",
    "Produtos_df.to_csv(f\"{path_destino}/produtos.csv\", sep=\";\", header=True, index=False, encoding=\"UTF-8\")\n",
    "Vendas_df.to_csv(f\"{path_destino}/vendas.csv\", sep=\";\", header=True, index=False, encoding=\"UTF-8\")"
   ]
  }
 ],
 "metadata": {
  "kernelspec": {
   "display_name": "learn_dw",
   "language": "python",
   "name": "python3"
  },
  "language_info": {
   "codemirror_mode": {
    "name": "ipython",
    "version": 3
   },
   "file_extension": ".py",
   "mimetype": "text/x-python",
   "name": "python",
   "nbconvert_exporter": "python",
   "pygments_lexer": "ipython3",
   "version": "3.13.1"
  }
 },
 "nbformat": 4,
 "nbformat_minor": 2
}
